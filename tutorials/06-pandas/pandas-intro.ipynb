{
 "cells": [
  {
   "cell_type": "markdown",
   "metadata": {},
   "source": [
    "# Pandas\n",
    "\n",
    "Knihovna Pandas umožňuje zpracováva tabulková data. Kdo zná SQL databáze, ten se tu bude cítit jako doma – s podobným formátem dat pracuje i Pandas, i když je zde několik rozdílů.\n",
    "\n",
    "Než nainstalujeme Pandas, doporučuji aktualizovat `pip`. Virtuální prostředí bývají občas vytvářeny s verzí, která neumí pracovat s *wheels* – binárním formátem, ze kterého se instaluje mnohem rychleji než ze zdrojového kódu.\n",
    "\n",
    "Pandas se instalují jako ostatní knihovny: `python -m pip install pandas`.\n",
    "\n",
    "\n",
    "Pro případ, že by tvůj `pip` neuměl *wheels*, nebo na PyPI nebyly příslušné *wheel* balíčky, je dobré mít na systému nainstalovaný překladač C a Fortranu (např. `gcc`, `gcc-gfortran`), a hlavičkyové soubory Pythonu (např. `python3-devel`). Jestli je ale nemáš, zkus instalaci přímo – *wheels* pro většinu operačních systémů existují – a až kdyby to nefungovalo, instaluj překladače a hlavičky."
   ]
  },
  {
   "cell_type": "code",
   "execution_count": 3,
   "metadata": {
    "collapsed": false
   },
   "outputs": [
    {
     "name": "stdout",
     "output_type": "stream",
     "text": [
      "Requirement already up-to-date: pip in ./__venv__/lib/python3.5/site-packages\n",
      "Requirement already satisfied (use --upgrade to upgrade): pandas in ./__venv__/lib/python3.5/site-packages\n",
      "Requirement already satisfied (use --upgrade to upgrade): numpy>=1.7.0 in ./__venv__/lib/python3.5/site-packages (from pandas)\n",
      "Requirement already satisfied (use --upgrade to upgrade): python-dateutil>=2 in ./__venv__/lib/python3.5/site-packages (from pandas)\n",
      "Requirement already satisfied (use --upgrade to upgrade): pytz>=2011k in ./__venv__/lib/python3.5/site-packages (from pandas)\n",
      "Requirement already satisfied (use --upgrade to upgrade): six>=1.5 in ./__venv__/lib/python3.5/site-packages (from python-dateutil>=2->pandas)\n"
     ]
    }
   ],
   "source": [
    "# Vykřičníky na začátku těchto řádků značí, že příkazy zadávám do\n",
    "# systémové příkazové řádky – ne do Pythonu:\n",
    "\n",
    "! python -m pip install --upgrade pip\n",
    "! python -m pip install pandas"
   ]
  },
  {
   "cell_type": "markdown",
   "metadata": {},
   "source": [
    "Nainstalováno? Můžeme pandas naimportovat.\n",
    "\n",
    "Tuhle knihovnu rádi používají vědci, a ti mají rádi zkratky. Ve spoustě tutoriálů na Webu proto najdeš `import pandas as pd`, případně rovnou použité `pd` jako zkratku pro `pandas`. Tento návod ale používá plné jméno."
   ]
  },
  {
   "cell_type": "code",
   "execution_count": 4,
   "metadata": {
    "collapsed": true
   },
   "outputs": [],
   "source": [
    "import pandas"
   ]
  },
  {
   "cell_type": "markdown",
   "metadata": {},
   "source": [
    "Základní datový typ, který Pandas nabízí, je `DataFrame`, neboli lidově „tabulka”. Jednotlivé záznamy jsou v ní uvedeny jako řádky, a informace o těchto údajích jsou úhledně srovnány ve sloupcích.\n",
    "Tabulka se dá vytvořit ze seznamu řádků – taky seznamů. Udělejme si třeba tabulku britských herců:"
   ]
  },
  {
   "cell_type": "code",
   "execution_count": 32,
   "metadata": {
    "collapsed": false
   },
   "outputs": [
    {
     "data": {
      "text/html": [
       "<div>\n",
       "<table border=\"1\" class=\"dataframe\">\n",
       "  <thead>\n",
       "    <tr style=\"text-align: right;\">\n",
       "      <th></th>\n",
       "      <th>0</th>\n",
       "      <th>1</th>\n",
       "      <th>2</th>\n",
       "    </tr>\n",
       "  </thead>\n",
       "  <tbody>\n",
       "    <tr>\n",
       "      <th>0</th>\n",
       "      <td>Terry</td>\n",
       "      <td>1942</td>\n",
       "      <td>True</td>\n",
       "    </tr>\n",
       "    <tr>\n",
       "      <th>1</th>\n",
       "      <td>Michael</td>\n",
       "      <td>1965</td>\n",
       "      <td>True</td>\n",
       "    </tr>\n",
       "    <tr>\n",
       "      <th>2</th>\n",
       "      <td>Eric</td>\n",
       "      <td>1967</td>\n",
       "      <td>True</td>\n",
       "    </tr>\n",
       "    <tr>\n",
       "      <th>3</th>\n",
       "      <td>Graham</td>\n",
       "      <td>1941</td>\n",
       "      <td>False</td>\n",
       "    </tr>\n",
       "    <tr>\n",
       "      <th>4</th>\n",
       "      <td>Terry</td>\n",
       "      <td>1940</td>\n",
       "      <td>True</td>\n",
       "    </tr>\n",
       "    <tr>\n",
       "      <th>5</th>\n",
       "      <td>John</td>\n",
       "      <td>1939</td>\n",
       "      <td>True</td>\n",
       "    </tr>\n",
       "  </tbody>\n",
       "</table>\n",
       "</div>"
      ],
      "text/plain": [
       "         0     1      2\n",
       "0    Terry  1942   True\n",
       "1  Michael  1965   True\n",
       "2     Eric  1967   True\n",
       "3   Graham  1941  False\n",
       "4    Terry  1940   True\n",
       "5     John  1939   True"
      ]
     },
     "execution_count": 32,
     "metadata": {},
     "output_type": "execute_result"
    }
   ],
   "source": [
    "actors = pandas.DataFrame([\n",
    "    [\"Terry\", 1942, True],\n",
    "    [\"Michael\", 1965, True],\n",
    "    [\"Eric\", 1967, True],\n",
    "    [\"Graham\", 1941, False],\n",
    "    [\"Terry\", 1940, True],\n",
    "    [\"John\", 1939, True],\n",
    "])\n",
    "actors"
   ]
  },
  {
   "cell_type": "markdown",
   "metadata": {},
   "source": [
    "V konzoli se tabulka vypíše textově, ale data v ní jsou stejná:"
   ]
  },
  {
   "cell_type": "code",
   "execution_count": 33,
   "metadata": {
    "collapsed": false
   },
   "outputs": [
    {
     "name": "stdout",
     "output_type": "stream",
     "text": [
      "         0     1      2\n",
      "0    Terry  1942   True\n",
      "1  Michael  1965   True\n",
      "2     Eric  1967   True\n",
      "3   Graham  1941  False\n",
      "4    Terry  1940   True\n",
      "5     John  1939   True\n"
     ]
    }
   ],
   "source": [
    "print(actors)"
   ]
  },
  {
   "cell_type": "markdown",
   "metadata": {},
   "source": [
    "Jiný způsob, jak vytvořit tabulku, je pomocí seznamu *slovníků*. Takhle se dají pojmenovat jednotlivé sloupce:"
   ]
  },
  {
   "cell_type": "code",
   "execution_count": 68,
   "metadata": {
    "collapsed": false
   },
   "outputs": [
    {
     "data": {
      "text/html": [
       "<div>\n",
       "<table border=\"1\" class=\"dataframe\">\n",
       "  <thead>\n",
       "    <tr style=\"text-align: right;\">\n",
       "      <th></th>\n",
       "      <th>alive</th>\n",
       "      <th>birth</th>\n",
       "      <th>name</th>\n",
       "    </tr>\n",
       "  </thead>\n",
       "  <tbody>\n",
       "    <tr>\n",
       "      <th>0</th>\n",
       "      <td>True</td>\n",
       "      <td>1942</td>\n",
       "      <td>Terry</td>\n",
       "    </tr>\n",
       "    <tr>\n",
       "      <th>1</th>\n",
       "      <td>True</td>\n",
       "      <td>1965</td>\n",
       "      <td>Michael</td>\n",
       "    </tr>\n",
       "    <tr>\n",
       "      <th>2</th>\n",
       "      <td>True</td>\n",
       "      <td>1967</td>\n",
       "      <td>Eric</td>\n",
       "    </tr>\n",
       "    <tr>\n",
       "      <th>3</th>\n",
       "      <td>False</td>\n",
       "      <td>1941</td>\n",
       "      <td>Graham</td>\n",
       "    </tr>\n",
       "    <tr>\n",
       "      <th>4</th>\n",
       "      <td>True</td>\n",
       "      <td>1940</td>\n",
       "      <td>Terry</td>\n",
       "    </tr>\n",
       "    <tr>\n",
       "      <th>5</th>\n",
       "      <td>True</td>\n",
       "      <td>1939</td>\n",
       "      <td>John</td>\n",
       "    </tr>\n",
       "  </tbody>\n",
       "</table>\n",
       "</div>"
      ],
      "text/plain": [
       "   alive  birth     name\n",
       "0   True   1942    Terry\n",
       "1   True   1965  Michael\n",
       "2   True   1967     Eric\n",
       "3  False   1941   Graham\n",
       "4   True   1940    Terry\n",
       "5   True   1939     John"
      ]
     },
     "execution_count": 68,
     "metadata": {},
     "output_type": "execute_result"
    }
   ],
   "source": [
    "actors = pandas.DataFrame([\n",
    "    {'name': \"Terry\", 'birth': 1942, 'alive': True},\n",
    "    {'name': \"Michael\", 'birth': 1965, 'alive': True},\n",
    "    {'name': \"Eric\", 'birth': 1967, 'alive': True},\n",
    "    {'name': \"Graham\", 'birth': 1941, 'alive': False},\n",
    "    {'name': \"Terry\", 'birth': 1940, 'alive': True},\n",
    "    {'name': \"John\", 'birth': 1939, 'alive': True},\n",
    "])\n",
    "actors"
   ]
  },
  {
   "cell_type": "markdown",
   "metadata": {},
   "source": [
    "Základní informace o tabulce se dají získat metodou `info`:"
   ]
  },
  {
   "cell_type": "code",
   "execution_count": 69,
   "metadata": {
    "collapsed": false
   },
   "outputs": [
    {
     "name": "stdout",
     "output_type": "stream",
     "text": [
      "<class 'pandas.core.frame.DataFrame'>\n",
      "RangeIndex: 6 entries, 0 to 5\n",
      "Data columns (total 3 columns):\n",
      "alive    6 non-null bool\n",
      "birth    6 non-null int64\n",
      "name     6 non-null object\n",
      "dtypes: bool(1), int64(1), object(1)\n",
      "memory usage: 182.0+ bytes\n"
     ]
    }
   ],
   "source": [
    "actors.info()"
   ]
  },
  {
   "cell_type": "markdown",
   "metadata": {},
   "source": [
    "Vidíme, že je to tabulka (`DataFrame`), má 6 řádků indexovaných\n",
    "(pomocí automaticky vygenerovaného klíče) od 0 to 5,\n",
    "a 3 sloupce: jeden s objekty, jeden s `int64`, a jeden s `bool`.\n",
    "\n",
    "Tyto datové typy (`dtypes`) se doplnily automaticky podle zadaných\n",
    "hodnot. Pandas je používá hlavně pro šetření pamětí: Pythoní objekt\n",
    "typu `bool` zabírá v paměti desítky bytů, ale v `bool` sloupci\n",
    "si každá hodnota vystačí s jedním bytem.\n",
    "(Typy jsou dynamické: když do sloupce zapíšeme „nekompatibilní”\n",
    "hodnotu, kterou Pandas neumí převést na daný typ, typ sloupce\n",
    "se automaticky zobecní.)"
   ]
  },
  {
   "cell_type": "markdown",
   "metadata": {},
   "source": [
    "## Sloupce"
   ]
  },
  {
   "cell_type": "markdown",
   "metadata": {},
   "source": [
    "Sloupec, neboli `Series`, je druhý základní datový typ v Pandas. Obsahuje sérii hodnot, jako seznam, ale navíc má jméno, datový typ, a *index* neboli klíč. Sloupce se dají získat indexováním tabulky:"
   ]
  },
  {
   "cell_type": "code",
   "execution_count": 71,
   "metadata": {
    "collapsed": false
   },
   "outputs": [
    {
     "data": {
      "text/plain": [
       "0    1942\n",
       "1    1965\n",
       "2    1967\n",
       "3    1941\n",
       "4    1940\n",
       "5    1939\n",
       "Name: birth, dtype: int64"
      ]
     },
     "execution_count": 71,
     "metadata": {},
     "output_type": "execute_result"
    }
   ],
   "source": [
    "years = actors['birth']\n",
    "years"
   ]
  },
  {
   "cell_type": "code",
   "execution_count": 72,
   "metadata": {
    "collapsed": false
   },
   "outputs": [
    {
     "data": {
      "text/plain": [
       "pandas.core.series.Series"
      ]
     },
     "execution_count": 72,
     "metadata": {},
     "output_type": "execute_result"
    }
   ],
   "source": [
    "type(years)"
   ]
  },
  {
   "cell_type": "code",
   "execution_count": 73,
   "metadata": {
    "collapsed": false
   },
   "outputs": [
    {
     "data": {
      "text/plain": [
       "'birth'"
      ]
     },
     "execution_count": 73,
     "metadata": {},
     "output_type": "execute_result"
    }
   ],
   "source": [
    "years.name"
   ]
  },
  {
   "cell_type": "code",
   "execution_count": 74,
   "metadata": {
    "collapsed": false
   },
   "outputs": [
    {
     "data": {
      "text/plain": [
       "RangeIndex(start=0, stop=6, step=1)"
      ]
     },
     "execution_count": 74,
     "metadata": {},
     "output_type": "execute_result"
    }
   ],
   "source": [
    "years.index"
   ]
  },
  {
   "cell_type": "code",
   "execution_count": 75,
   "metadata": {
    "collapsed": false
   },
   "outputs": [
    {
     "data": {
      "text/plain": [
       "dtype('int64')"
      ]
     },
     "execution_count": 75,
     "metadata": {},
     "output_type": "execute_result"
    }
   ],
   "source": [
    "years.dtype"
   ]
  },
  {
   "cell_type": "markdown",
   "metadata": {},
   "source": [
    "S informacemi ve sloupcích se dá počítat.\n",
    "Základní aritmetické operace (jako sčítání či dělení) se sloupcem a číslem provedou danou operaci nad každou hodnotou ve sloupci. Výsledek je nový sloupec:"
   ]
  },
  {
   "cell_type": "code",
   "execution_count": 76,
   "metadata": {
    "collapsed": false
   },
   "outputs": [
    {
     "data": {
      "text/plain": [
       "0    42\n",
       "1    65\n",
       "2    67\n",
       "3    41\n",
       "4    40\n",
       "5    39\n",
       "Name: birth, dtype: int64"
      ]
     },
     "execution_count": 76,
     "metadata": {},
     "output_type": "execute_result"
    }
   ],
   "source": [
    "two_digit = years - 1900\n",
    "two_digit"
   ]
  },
  {
   "cell_type": "code",
   "execution_count": 77,
   "metadata": {
    "collapsed": false
   },
   "outputs": [
    {
     "data": {
      "text/plain": [
       "0    19\n",
       "1    19\n",
       "2    19\n",
       "3    19\n",
       "4    19\n",
       "5    19\n",
       "Name: 1, dtype: int64"
      ]
     },
     "execution_count": 77,
     "metadata": {},
     "output_type": "execute_result"
    }
   ],
   "source": [
    "century = column // 100\n",
    "century"
   ]
  },
  {
   "cell_type": "code",
   "execution_count": null,
   "metadata": {
    "collapsed": true
   },
   "outputs": [],
   "source": []
  }
 ],
 "metadata": {
  "kernelspec": {
   "display_name": "Python 3",
   "language": "python",
   "name": "python3"
  },
  "language_info": {
   "codemirror_mode": {
    "name": "ipython",
    "version": 3
   },
   "file_extension": ".py",
   "mimetype": "text/x-python",
   "name": "python",
   "nbconvert_exporter": "python",
   "pygments_lexer": "ipython3",
   "version": "3.5.1"
  }
 },
 "nbformat": 4,
 "nbformat_minor": 1
}
