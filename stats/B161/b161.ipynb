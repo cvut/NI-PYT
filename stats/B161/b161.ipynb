{
 "cells": [
  {
   "cell_type": "code",
   "execution_count": 1,
   "metadata": {
    "collapsed": false,
    "deletable": true,
    "editable": true
   },
   "outputs": [],
   "source": [
    "import pandas\n",
    "import numpy\n",
    "import matplotlib\n",
    "import matplotlib.style\n",
    "matplotlib.style.use('ggplot')\n",
    "\n",
    "%matplotlib inline"
   ]
  },
  {
   "cell_type": "markdown",
   "metadata": {
    "deletable": true,
    "editable": true
   },
   "source": [
    "# Data preparation"
   ]
  },
  {
   "cell_type": "code",
   "execution_count": 2,
   "metadata": {
    "collapsed": false,
    "deletable": true,
    "editable": true
   },
   "outputs": [
    {
     "data": {
      "text/html": [
       "<div>\n",
       "<table border=\"1\" class=\"dataframe\">\n",
       "  <thead>\n",
       "    <tr style=\"text-align: right;\">\n",
       "      <th></th>\n",
       "      <th>t01</th>\n",
       "      <th>t02</th>\n",
       "      <th>t03</th>\n",
       "      <th>t04</th>\n",
       "      <th>t05</th>\n",
       "      <th>t06</th>\n",
       "      <th>t07</th>\n",
       "      <th>t08</th>\n",
       "      <th>t09</th>\n",
       "      <th>t10</th>\n",
       "      <th>tasks</th>\n",
       "      <th>sem</th>\n",
       "      <th>extra</th>\n",
       "      <th>tot</th>\n",
       "      <th>mark</th>\n",
       "      <th>var</th>\n",
       "      <th>web</th>\n",
       "      <th>gh</th>\n",
       "      <th>task</th>\n",
       "      <th>group</th>\n",
       "    </tr>\n",
       "    <tr>\n",
       "      <th>name</th>\n",
       "      <th></th>\n",
       "      <th></th>\n",
       "      <th></th>\n",
       "      <th></th>\n",
       "      <th></th>\n",
       "      <th></th>\n",
       "      <th></th>\n",
       "      <th></th>\n",
       "      <th></th>\n",
       "      <th></th>\n",
       "      <th></th>\n",
       "      <th></th>\n",
       "      <th></th>\n",
       "      <th></th>\n",
       "      <th></th>\n",
       "      <th></th>\n",
       "      <th></th>\n",
       "      <th></th>\n",
       "      <th></th>\n",
       "      <th></th>\n",
       "    </tr>\n",
       "  </thead>\n",
       "  <tbody>\n",
       "    <tr>\n",
       "      <th>evgrsntb</th>\n",
       "      <td>5.0</td>\n",
       "      <td>5.0</td>\n",
       "      <td>4.0</td>\n",
       "      <td>NaN</td>\n",
       "      <td>3.5</td>\n",
       "      <td>3.0</td>\n",
       "      <td>4.5</td>\n",
       "      <td>NaN</td>\n",
       "      <td>NaN</td>\n",
       "      <td>NaN</td>\n",
       "      <td>25.0</td>\n",
       "      <td>NaN</td>\n",
       "      <td>NaN</td>\n",
       "      <td>25.0</td>\n",
       "      <td>F</td>\n",
       "      <td>T</td>\n",
       "      <td>True</td>\n",
       "      <td>True</td>\n",
       "      <td>False</td>\n",
       "      <td>102</td>\n",
       "    </tr>\n",
       "    <tr>\n",
       "      <th>byhzgxnj</th>\n",
       "      <td>4.0</td>\n",
       "      <td>4.0</td>\n",
       "      <td>4.5</td>\n",
       "      <td>4.0</td>\n",
       "      <td>5.0</td>\n",
       "      <td>4.0</td>\n",
       "      <td>4.5</td>\n",
       "      <td>4.0</td>\n",
       "      <td>NaN</td>\n",
       "      <td>NaN</td>\n",
       "      <td>34.0</td>\n",
       "      <td>NaN</td>\n",
       "      <td>1.0</td>\n",
       "      <td>35.0</td>\n",
       "      <td>F</td>\n",
       "      <td>T</td>\n",
       "      <td>True</td>\n",
       "      <td>True</td>\n",
       "      <td>True</td>\n",
       "      <td>101</td>\n",
       "    </tr>\n",
       "    <tr>\n",
       "      <th>yghatkeb</th>\n",
       "      <td>5.0</td>\n",
       "      <td>5.0</td>\n",
       "      <td>4.5</td>\n",
       "      <td>NaN</td>\n",
       "      <td>NaN</td>\n",
       "      <td>5.0</td>\n",
       "      <td>3.0</td>\n",
       "      <td>1.0</td>\n",
       "      <td>NaN</td>\n",
       "      <td>NaN</td>\n",
       "      <td>23.5</td>\n",
       "      <td>NaN</td>\n",
       "      <td>NaN</td>\n",
       "      <td>23.5</td>\n",
       "      <td>F</td>\n",
       "      <td>T</td>\n",
       "      <td>True</td>\n",
       "      <td>True</td>\n",
       "      <td>False</td>\n",
       "      <td>101</td>\n",
       "    </tr>\n",
       "    <tr>\n",
       "      <th>cknuixjt</th>\n",
       "      <td>5.0</td>\n",
       "      <td>4.0</td>\n",
       "      <td>4.0</td>\n",
       "      <td>3.5</td>\n",
       "      <td>3.0</td>\n",
       "      <td>5.0</td>\n",
       "      <td>4.0</td>\n",
       "      <td>5.0</td>\n",
       "      <td>4.0</td>\n",
       "      <td>NaN</td>\n",
       "      <td>37.5</td>\n",
       "      <td>39.0</td>\n",
       "      <td>NaN</td>\n",
       "      <td>76.5</td>\n",
       "      <td>C</td>\n",
       "      <td>T</td>\n",
       "      <td>True</td>\n",
       "      <td>True</td>\n",
       "      <td>True</td>\n",
       "      <td>102</td>\n",
       "    </tr>\n",
       "    <tr>\n",
       "      <th>gdwtipua</th>\n",
       "      <td>5.0</td>\n",
       "      <td>4.0</td>\n",
       "      <td>5.0</td>\n",
       "      <td>4.0</td>\n",
       "      <td>3.0</td>\n",
       "      <td>4.0</td>\n",
       "      <td>4.5</td>\n",
       "      <td>1.5</td>\n",
       "      <td>4.0</td>\n",
       "      <td>NaN</td>\n",
       "      <td>35.0</td>\n",
       "      <td>55.0</td>\n",
       "      <td>NaN</td>\n",
       "      <td>90.0</td>\n",
       "      <td>A</td>\n",
       "      <td>T</td>\n",
       "      <td>True</td>\n",
       "      <td>True</td>\n",
       "      <td>True</td>\n",
       "      <td>102</td>\n",
       "    </tr>\n",
       "  </tbody>\n",
       "</table>\n",
       "</div>"
      ],
      "text/plain": [
       "          t01  t02  t03  t04  t05  t06  t07  t08  t09  t10  tasks   sem  \\\n",
       "name                                                                      \n",
       "evgrsntb  5.0  5.0  4.0  NaN  3.5  3.0  4.5  NaN  NaN  NaN   25.0   NaN   \n",
       "byhzgxnj  4.0  4.0  4.5  4.0  5.0  4.0  4.5  4.0  NaN  NaN   34.0   NaN   \n",
       "yghatkeb  5.0  5.0  4.5  NaN  NaN  5.0  3.0  1.0  NaN  NaN   23.5   NaN   \n",
       "cknuixjt  5.0  4.0  4.0  3.5  3.0  5.0  4.0  5.0  4.0  NaN   37.5  39.0   \n",
       "gdwtipua  5.0  4.0  5.0  4.0  3.0  4.0  4.5  1.5  4.0  NaN   35.0  55.0   \n",
       "\n",
       "          extra   tot mark var   web    gh   task group  \n",
       "name                                                     \n",
       "evgrsntb    NaN  25.0    F   T  True  True  False   102  \n",
       "byhzgxnj    1.0  35.0    F   T  True  True   True   101  \n",
       "yghatkeb    NaN  23.5    F   T  True  True  False   101  \n",
       "cknuixjt    NaN  76.5    C   T  True  True   True   102  \n",
       "gdwtipua    NaN  90.0    A   T  True  True   True   102  "
      ]
     },
     "execution_count": 2,
     "metadata": {},
     "output_type": "execute_result"
    }
   ],
   "source": [
    "try:\n",
    "    students = pandas.read_csv('personal.csv', index_col=None)\n",
    "except FileNotFoundError:\n",
    "    students = pandas.read_csv('anonymous.csv', index_col='name')\n",
    "else:\n",
    "    import random\n",
    "    import string\n",
    "    students['name'] = students['name'].apply(lambda x: ''.join(random.choices(string.ascii_lowercase, k=8)))\n",
    "    students['web'] = students['web'].notnull()\n",
    "    students['gh'] = students['gh'].notnull()\n",
    "    students['task'] = students['task'].notnull()\n",
    "    students = students.reindex(numpy.random.permutation(students.index)).set_index('name')\n",
    "    students.to_csv('anonymous.csv')\n",
    "students['group'] = students['group'].apply(str)\n",
    "students.replace(0, numpy.nan, inplace=True)\n",
    "students.head()"
   ]
  },
  {
   "cell_type": "code",
   "execution_count": 3,
   "metadata": {
    "collapsed": false
   },
   "outputs": [
    {
     "name": "stdout",
     "output_type": "stream",
     "text": [
      "<class 'pandas.core.frame.DataFrame'>\n",
      "Index: 46 entries, evgrsntb to wveloema\n",
      "Data columns (total 20 columns):\n",
      "t01      39 non-null float64\n",
      "t02      39 non-null float64\n",
      "t03      40 non-null float64\n",
      "t04      24 non-null float64\n",
      "t05      28 non-null float64\n",
      "t06      37 non-null float64\n",
      "t07      23 non-null float64\n",
      "t08      16 non-null float64\n",
      "t09      18 non-null float64\n",
      "t10      6 non-null float64\n",
      "tasks    41 non-null float64\n",
      "sem      16 non-null float64\n",
      "extra    13 non-null float64\n",
      "tot      41 non-null float64\n",
      "mark     46 non-null object\n",
      "var      42 non-null object\n",
      "web      46 non-null bool\n",
      "gh       46 non-null bool\n",
      "task     46 non-null bool\n",
      "group    46 non-null object\n",
      "dtypes: bool(3), float64(14), object(3)\n",
      "memory usage: 6.6+ KB\n"
     ]
    }
   ],
   "source": [
    "students.info()"
   ]
  },
  {
   "cell_type": "markdown",
   "metadata": {},
   "source": [
    "# What the data means\n",
    "\n",
    " * **t01**-**t10**: Points for tasks\n",
    "  * nobody was ever graded with 0, so NaN == not submitted\n",
    "  * maximum was always 5\n",
    " * **tasks**: Sum of the above\n",
    " * **sem**: Points from semestral work (max 50, 56 with bonuses)\n",
    " * **extra**: Extra points for pull requests, extraordinery solution to a task, etc.\n",
    " * **tot**: Total number of points (*tasks*+*sem*+*extra*)\n",
    " * **mark**: Final mark\n",
    "  * F: bellow 50 (or *tasks*<25 or *sem*<25, but that never happened with *tot* over 49)\n",
    "  * E: 50-59\n",
    "  * D: 60-69\n",
    "  * C: 70-79\n",
    "  * B: 80-89\n",
    "  * A: 90+\n",
    " * **var**: topic of *t01* to *t05*\n",
    "  * *G* for GitHub issues bot\n",
    "  * *T* for Twitter Wall\n",
    "  * *custom* for custom topic (once selected, not submitted)\n",
    "  * *NaN* for not even selected\n",
    " * **web**: whether the student deployed *t02* to the Interwebz\n",
    " * **gh**: whether we had a link to student's GitHub profile\n",
    " * **task**: whether student had an approved semestral task\n",
    " * **group**: *101* for 11:00-13:15, *102* for 13:30-15:45"
   ]
  },
  {
   "cell_type": "markdown",
   "metadata": {
    "deletable": true,
    "editable": true
   },
   "source": [
    "# Tasks"
   ]
  },
  {
   "cell_type": "code",
   "execution_count": 4,
   "metadata": {
    "collapsed": false,
    "deletable": true,
    "editable": true
   },
   "outputs": [
    {
     "data": {
      "text/html": [
       "<div>\n",
       "<table border=\"1\" class=\"dataframe\">\n",
       "  <thead>\n",
       "    <tr style=\"text-align: right;\">\n",
       "      <th></th>\n",
       "      <th>count</th>\n",
       "      <th>mean</th>\n",
       "      <th>std</th>\n",
       "      <th>min</th>\n",
       "      <th>25%</th>\n",
       "      <th>50%</th>\n",
       "      <th>75%</th>\n",
       "      <th>max</th>\n",
       "    </tr>\n",
       "  </thead>\n",
       "  <tbody>\n",
       "    <tr>\n",
       "      <th>t01</th>\n",
       "      <td>39.0</td>\n",
       "      <td>4.717949</td>\n",
       "      <td>0.497294</td>\n",
       "      <td>3.0</td>\n",
       "      <td>4.500</td>\n",
       "      <td>5.00</td>\n",
       "      <td>5.000</td>\n",
       "      <td>5.0</td>\n",
       "    </tr>\n",
       "    <tr>\n",
       "      <th>t02</th>\n",
       "      <td>39.0</td>\n",
       "      <td>4.512821</td>\n",
       "      <td>0.782096</td>\n",
       "      <td>2.0</td>\n",
       "      <td>4.000</td>\n",
       "      <td>5.00</td>\n",
       "      <td>5.000</td>\n",
       "      <td>5.0</td>\n",
       "    </tr>\n",
       "    <tr>\n",
       "      <th>t03</th>\n",
       "      <td>40.0</td>\n",
       "      <td>4.487500</td>\n",
       "      <td>0.763658</td>\n",
       "      <td>2.0</td>\n",
       "      <td>4.375</td>\n",
       "      <td>5.00</td>\n",
       "      <td>5.000</td>\n",
       "      <td>5.0</td>\n",
       "    </tr>\n",
       "    <tr>\n",
       "      <th>t04</th>\n",
       "      <td>24.0</td>\n",
       "      <td>3.437500</td>\n",
       "      <td>1.534477</td>\n",
       "      <td>0.5</td>\n",
       "      <td>2.000</td>\n",
       "      <td>4.00</td>\n",
       "      <td>4.500</td>\n",
       "      <td>5.0</td>\n",
       "    </tr>\n",
       "    <tr>\n",
       "      <th>t05</th>\n",
       "      <td>28.0</td>\n",
       "      <td>3.857143</td>\n",
       "      <td>0.989361</td>\n",
       "      <td>1.0</td>\n",
       "      <td>3.375</td>\n",
       "      <td>4.00</td>\n",
       "      <td>4.625</td>\n",
       "      <td>5.0</td>\n",
       "    </tr>\n",
       "    <tr>\n",
       "      <th>t06</th>\n",
       "      <td>37.0</td>\n",
       "      <td>4.108108</td>\n",
       "      <td>0.800478</td>\n",
       "      <td>2.0</td>\n",
       "      <td>4.000</td>\n",
       "      <td>4.00</td>\n",
       "      <td>5.000</td>\n",
       "      <td>5.0</td>\n",
       "    </tr>\n",
       "    <tr>\n",
       "      <th>t07</th>\n",
       "      <td>23.0</td>\n",
       "      <td>4.282609</td>\n",
       "      <td>0.560562</td>\n",
       "      <td>3.0</td>\n",
       "      <td>4.000</td>\n",
       "      <td>4.50</td>\n",
       "      <td>4.500</td>\n",
       "      <td>5.0</td>\n",
       "    </tr>\n",
       "    <tr>\n",
       "      <th>t08</th>\n",
       "      <td>16.0</td>\n",
       "      <td>3.031250</td>\n",
       "      <td>1.978794</td>\n",
       "      <td>0.5</td>\n",
       "      <td>0.875</td>\n",
       "      <td>4.00</td>\n",
       "      <td>5.000</td>\n",
       "      <td>5.0</td>\n",
       "    </tr>\n",
       "    <tr>\n",
       "      <th>t09</th>\n",
       "      <td>18.0</td>\n",
       "      <td>3.972222</td>\n",
       "      <td>0.812987</td>\n",
       "      <td>1.5</td>\n",
       "      <td>3.625</td>\n",
       "      <td>4.00</td>\n",
       "      <td>4.500</td>\n",
       "      <td>5.0</td>\n",
       "    </tr>\n",
       "    <tr>\n",
       "      <th>t10</th>\n",
       "      <td>6.0</td>\n",
       "      <td>3.916667</td>\n",
       "      <td>1.200694</td>\n",
       "      <td>2.0</td>\n",
       "      <td>3.250</td>\n",
       "      <td>4.25</td>\n",
       "      <td>4.875</td>\n",
       "      <td>5.0</td>\n",
       "    </tr>\n",
       "  </tbody>\n",
       "</table>\n",
       "</div>"
      ],
      "text/plain": [
       "     count      mean       std  min    25%   50%    75%  max\n",
       "t01   39.0  4.717949  0.497294  3.0  4.500  5.00  5.000  5.0\n",
       "t02   39.0  4.512821  0.782096  2.0  4.000  5.00  5.000  5.0\n",
       "t03   40.0  4.487500  0.763658  2.0  4.375  5.00  5.000  5.0\n",
       "t04   24.0  3.437500  1.534477  0.5  2.000  4.00  4.500  5.0\n",
       "t05   28.0  3.857143  0.989361  1.0  3.375  4.00  4.625  5.0\n",
       "t06   37.0  4.108108  0.800478  2.0  4.000  4.00  5.000  5.0\n",
       "t07   23.0  4.282609  0.560562  3.0  4.000  4.50  4.500  5.0\n",
       "t08   16.0  3.031250  1.978794  0.5  0.875  4.00  5.000  5.0\n",
       "t09   18.0  3.972222  0.812987  1.5  3.625  4.00  4.500  5.0\n",
       "t10    6.0  3.916667  1.200694  2.0  3.250  4.25  4.875  5.0"
      ]
     },
     "execution_count": 4,
     "metadata": {},
     "output_type": "execute_result"
    }
   ],
   "source": [
    "TASKS = ['t{:02d}'.format(n) for n in range(1, 11)]\n",
    "described_tasks = students.loc[:, TASKS].describe().T\n",
    "described_tasks"
   ]
  },
  {
   "cell_type": "code",
   "execution_count": 5,
   "metadata": {
    "collapsed": false,
    "deletable": true,
    "editable": true
   },
   "outputs": [
    {
     "data": {
      "text/plain": [
       "<matplotlib.axes._subplots.AxesSubplot at 0x7fa4f5207080>"
      ]
     },
     "execution_count": 5,
     "metadata": {},
     "output_type": "execute_result"
    },
    {
     "data": {
      "image/png": "[encoded data removed]",
      "text/plain": [
       "<matplotlib.figure.Figure at 0x7fa4f520a860>"
      ]
     },
     "metadata": {},
     "output_type": "display_data"
    }
   ],
   "source": [
    "described_tasks['count'].plot.bar(title='Number of submitted tasks')"
   ]
  },
  {
   "cell_type": "code",
   "execution_count": 6,
   "metadata": {
    "collapsed": false,
    "deletable": true,
    "editable": true
   },
   "outputs": [
    {
     "data": {
      "text/plain": [
       "<matplotlib.axes._subplots.AxesSubplot at 0x7fa4f312ad30>"
      ]
     },
     "execution_count": 6,
     "metadata": {},
     "output_type": "execute_result"
    },
    {
     "data": {
      "image/png": "[encoded data removed]",
      "text/plain": [
       "<matplotlib.figure.Figure at 0x7fa4f3139588>"
      ]
     },
     "metadata": {},
     "output_type": "display_data"
    }
   ],
   "source": [
    "described_tasks.loc[:, ['max', 'mean', 'min']].plot.bar(title='Points per task (only for submitted)')"
   ]
  },
  {
   "cell_type": "code",
   "execution_count": 7,
   "metadata": {
    "collapsed": false,
    "deletable": true,
    "editable": true
   },
   "outputs": [
    {
     "data": {
      "text/html": [
       "<div>\n",
       "<table border=\"1\" class=\"dataframe\">\n",
       "  <thead>\n",
       "    <tr style=\"text-align: right;\">\n",
       "      <th></th>\n",
       "      <th></th>\n",
       "      <th>tasks</th>\n",
       "      <th>tot</th>\n",
       "    </tr>\n",
       "    <tr>\n",
       "      <th>var</th>\n",
       "      <th></th>\n",
       "      <th></th>\n",
       "      <th></th>\n",
       "    </tr>\n",
       "  </thead>\n",
       "  <tbody>\n",
       "    <tr>\n",
       "      <th rowspan=\"8\" valign=\"top\">github</th>\n",
       "      <th>count</th>\n",
       "      <td>14.000000</td>\n",
       "      <td>14.000000</td>\n",
       "    </tr>\n",
       "    <tr>\n",
       "      <th>mean</th>\n",
       "      <td>27.535714</td>\n",
       "      <td>46.357143</td>\n",
       "    </tr>\n",
       "    <tr>\n",
       "      <th>std</th>\n",
       "      <td>8.636827</td>\n",
       "      <td>29.540994</td>\n",
       "    </tr>\n",
       "    <tr>\n",
       "      <th>min</th>\n",
       "      <td>10.000000</td>\n",
       "      <td>10.000000</td>\n",
       "    </tr>\n",
       "    <tr>\n",
       "      <th>25%</th>\n",
       "      <td>23.375000</td>\n",
       "      <td>24.000000</td>\n",
       "    </tr>\n",
       "    <tr>\n",
       "      <th>50%</th>\n",
       "      <td>29.000000</td>\n",
       "      <td>32.250000</td>\n",
       "    </tr>\n",
       "    <tr>\n",
       "      <th>75%</th>\n",
       "      <td>34.000000</td>\n",
       "      <td>73.500000</td>\n",
       "    </tr>\n",
       "    <tr>\n",
       "      <th>max</th>\n",
       "      <td>38.000000</td>\n",
       "      <td>90.000000</td>\n",
       "    </tr>\n",
       "    <tr>\n",
       "      <th rowspan=\"8\" valign=\"top\">twitter</th>\n",
       "      <th>count</th>\n",
       "      <td>27.000000</td>\n",
       "      <td>27.000000</td>\n",
       "    </tr>\n",
       "    <tr>\n",
       "      <th>mean</th>\n",
       "      <td>27.351852</td>\n",
       "      <td>44.888889</td>\n",
       "    </tr>\n",
       "    <tr>\n",
       "      <th>std</th>\n",
       "      <td>10.234571</td>\n",
       "      <td>31.605542</td>\n",
       "    </tr>\n",
       "    <tr>\n",
       "      <th>min</th>\n",
       "      <td>4.500000</td>\n",
       "      <td>4.500000</td>\n",
       "    </tr>\n",
       "    <tr>\n",
       "      <th>25%</th>\n",
       "      <td>21.500000</td>\n",
       "      <td>21.500000</td>\n",
       "    </tr>\n",
       "    <tr>\n",
       "      <th>50%</th>\n",
       "      <td>27.000000</td>\n",
       "      <td>27.500000</td>\n",
       "    </tr>\n",
       "    <tr>\n",
       "      <th>75%</th>\n",
       "      <td>34.750000</td>\n",
       "      <td>75.750000</td>\n",
       "    </tr>\n",
       "    <tr>\n",
       "      <th>max</th>\n",
       "      <td>48.500000</td>\n",
       "      <td>108.500000</td>\n",
       "    </tr>\n",
       "    <tr>\n",
       "      <th rowspan=\"8\" valign=\"top\">custom</th>\n",
       "      <th>count</th>\n",
       "      <td>0.000000</td>\n",
       "      <td>0.000000</td>\n",
       "    </tr>\n",
       "    <tr>\n",
       "      <th>mean</th>\n",
       "      <td>NaN</td>\n",
       "      <td>NaN</td>\n",
       "    </tr>\n",
       "    <tr>\n",
       "      <th>std</th>\n",
       "      <td>NaN</td>\n",
       "      <td>NaN</td>\n",
       "    </tr>\n",
       "    <tr>\n",
       "      <th>min</th>\n",
       "      <td>NaN</td>\n",
       "      <td>NaN</td>\n",
       "    </tr>\n",
       "    <tr>\n",
       "      <th>25%</th>\n",
       "      <td>NaN</td>\n",
       "      <td>NaN</td>\n",
       "    </tr>\n",
       "    <tr>\n",
       "      <th>50%</th>\n",
       "      <td>NaN</td>\n",
       "      <td>NaN</td>\n",
       "    </tr>\n",
       "    <tr>\n",
       "      <th>75%</th>\n",
       "      <td>NaN</td>\n",
       "      <td>NaN</td>\n",
       "    </tr>\n",
       "    <tr>\n",
       "      <th>max</th>\n",
       "      <td>NaN</td>\n",
       "      <td>NaN</td>\n",
       "    </tr>\n",
       "  </tbody>\n",
       "</table>\n",
       "</div>"
      ],
      "text/plain": [
       "                   tasks         tot\n",
       "var                                 \n",
       "github  count  14.000000   14.000000\n",
       "        mean   27.535714   46.357143\n",
       "        std     8.636827   29.540994\n",
       "        min    10.000000   10.000000\n",
       "        25%    23.375000   24.000000\n",
       "        50%    29.000000   32.250000\n",
       "        75%    34.000000   73.500000\n",
       "        max    38.000000   90.000000\n",
       "twitter count  27.000000   27.000000\n",
       "        mean   27.351852   44.888889\n",
       "        std    10.234571   31.605542\n",
       "        min     4.500000    4.500000\n",
       "        25%    21.500000   21.500000\n",
       "        50%    27.000000   27.500000\n",
       "        75%    34.750000   75.750000\n",
       "        max    48.500000  108.500000\n",
       "custom  count   0.000000    0.000000\n",
       "        mean         NaN         NaN\n",
       "        std          NaN         NaN\n",
       "        min          NaN         NaN\n",
       "        25%          NaN         NaN\n",
       "        50%          NaN         NaN\n",
       "        75%          NaN         NaN\n",
       "        max          NaN         NaN"
      ]
     },
     "execution_count": 7,
     "metadata": {},
     "output_type": "execute_result"
    }
   ],
   "source": [
    "students.loc[:, ['tasks', 'tot', 'var']].groupby('var').describe().rename({'G': 'github', 'T': 'twitter'})"
   ]
  },
  {
   "cell_type": "markdown",
   "metadata": {
    "deletable": true,
    "editable": true
   },
   "source": [
    "# Total points"
   ]
  },
  {
   "cell_type": "code",
   "execution_count": 8,
   "metadata": {
    "collapsed": false,
    "deletable": true,
    "editable": true
   },
   "outputs": [
    {
     "data": {
      "text/plain": [
       "<matplotlib.axes._subplots.AxesSubplot at 0x7fa4f2f8dcc0>"
      ]
     },
     "execution_count": 8,
     "metadata": {},
     "output_type": "execute_result"
    },
    {
     "data": {
      "image/png": "[encoded data removed]",
      "text/plain": [
       "<matplotlib.figure.Figure at 0x7fa4f2f2c2e8>"
      ]
     },
     "metadata": {},
     "output_type": "display_data"
    }
   ],
   "source": [
    "colors = {'A': 'g', 'B': 'y', 'C': 'c', 'D': 'm', 'E': 'k', 'F': 'r'}\n",
    "df = students.loc[:, ['tot', 'mark']].fillna(0).sort_values(by='tot')\n",
    "df['tot'].plot(kind='bar', color=[colors[i] for i in df['mark']], title='Total points')"
   ]
  },
  {
   "cell_type": "code",
   "execution_count": 9,
   "metadata": {
    "collapsed": false,
    "deletable": true,
    "editable": true
   },
   "outputs": [
    {
     "data": {
      "text/plain": [
       "<matplotlib.axes._subplots.AxesSubplot at 0x7fa4f2f9e208>"
      ]
     },
     "execution_count": 9,
     "metadata": {},
     "output_type": "execute_result"
    },
    {
     "data": {
      "image/png": "[encoded data removed]",
      "text/plain": [
       "<matplotlib.figure.Figure at 0x7fa4f2f942b0>"
      ]
     },
     "metadata": {},
     "output_type": "display_data"
    }
   ],
   "source": [
    "students['tot'].fillna(0).hist(bins=20)"
   ]
  },
  {
   "cell_type": "markdown",
   "metadata": {
    "deletable": true,
    "editable": true
   },
   "source": [
    "# Semestral work"
   ]
  },
  {
   "cell_type": "markdown",
   "metadata": {},
   "source": [
    "Stats for submitted only:"
   ]
  },
  {
   "cell_type": "code",
   "execution_count": 10,
   "metadata": {
    "collapsed": false,
    "deletable": true,
    "editable": true,
    "scrolled": true
   },
   "outputs": [
    {
     "data": {
      "text/html": [
       "<div>\n",
       "<table border=\"1\" class=\"dataframe\">\n",
       "  <thead>\n",
       "    <tr style=\"text-align: right;\">\n",
       "      <th></th>\n",
       "      <th>sem</th>\n",
       "    </tr>\n",
       "  </thead>\n",
       "  <tbody>\n",
       "    <tr>\n",
       "      <th>had_topic</th>\n",
       "      <td>25.000000</td>\n",
       "    </tr>\n",
       "    <tr>\n",
       "      <th>submitted</th>\n",
       "      <td>16.000000</td>\n",
       "    </tr>\n",
       "    <tr>\n",
       "      <th>mean</th>\n",
       "      <td>45.062500</td>\n",
       "    </tr>\n",
       "    <tr>\n",
       "      <th>std</th>\n",
       "      <td>8.028854</td>\n",
       "    </tr>\n",
       "    <tr>\n",
       "      <th>min</th>\n",
       "      <td>25.000000</td>\n",
       "    </tr>\n",
       "    <tr>\n",
       "      <th>25%</th>\n",
       "      <td>40.000000</td>\n",
       "    </tr>\n",
       "    <tr>\n",
       "      <th>50%</th>\n",
       "      <td>45.500000</td>\n",
       "    </tr>\n",
       "    <tr>\n",
       "      <th>75%</th>\n",
       "      <td>51.000000</td>\n",
       "    </tr>\n",
       "    <tr>\n",
       "      <th>max</th>\n",
       "      <td>56.000000</td>\n",
       "    </tr>\n",
       "  </tbody>\n",
       "</table>\n",
       "</div>"
      ],
      "text/plain": [
       "                 sem\n",
       "had_topic  25.000000\n",
       "submitted  16.000000\n",
       "mean       45.062500\n",
       "std         8.028854\n",
       "min        25.000000\n",
       "25%        40.000000\n",
       "50%        45.500000\n",
       "75%        51.000000\n",
       "max        56.000000"
      ]
     },
     "execution_count": 10,
     "metadata": {},
     "output_type": "execute_result"
    }
   ],
   "source": [
    "pandas.DataFrame({'sem': {'had_topic': students['task'].sum()}}).append(\n",
    "    students.loc[:, ['sem']].describe()).rename({'count': 'submitted'})"
   ]
  },
  {
   "cell_type": "code",
   "execution_count": 11,
   "metadata": {
    "collapsed": false,
    "deletable": true,
    "editable": true
   },
   "outputs": [
    {
     "data": {
      "text/plain": [
       "<matplotlib.axes._subplots.AxesSubplot at 0x7fa4f2f947f0>"
      ]
     },
     "execution_count": 11,
     "metadata": {},
     "output_type": "execute_result"
    },
    {
     "data": {
      "image/png": "[encoded data removed]",
      "text/plain": [
       "<matplotlib.figure.Figure at 0x7fa4f2cb7e10>"
      ]
     },
     "metadata": {},
     "output_type": "display_data"
    }
   ],
   "source": [
    "students['sem'].hist(bins=10)"
   ]
  },
  {
   "cell_type": "markdown",
   "metadata": {},
   "source": [
    "Stats for selected topic:"
   ]
  },
  {
   "cell_type": "code",
   "execution_count": 12,
   "metadata": {
    "collapsed": false
   },
   "outputs": [
    {
     "data": {
      "text/html": [
       "<div>\n",
       "<table border=\"1\" class=\"dataframe\">\n",
       "  <thead>\n",
       "    <tr style=\"text-align: right;\">\n",
       "      <th></th>\n",
       "      <th>sem</th>\n",
       "    </tr>\n",
       "  </thead>\n",
       "  <tbody>\n",
       "    <tr>\n",
       "      <th>count</th>\n",
       "      <td>25.000000</td>\n",
       "    </tr>\n",
       "    <tr>\n",
       "      <th>mean</th>\n",
       "      <td>28.840000</td>\n",
       "    </tr>\n",
       "    <tr>\n",
       "      <th>std</th>\n",
       "      <td>22.970416</td>\n",
       "    </tr>\n",
       "    <tr>\n",
       "      <th>min</th>\n",
       "      <td>0.000000</td>\n",
       "    </tr>\n",
       "    <tr>\n",
       "      <th>25%</th>\n",
       "      <td>0.000000</td>\n",
       "    </tr>\n",
       "    <tr>\n",
       "      <th>50%</th>\n",
       "      <td>40.000000</td>\n",
       "    </tr>\n",
       "    <tr>\n",
       "      <th>75%</th>\n",
       "      <td>46.000000</td>\n",
       "    </tr>\n",
       "    <tr>\n",
       "      <th>max</th>\n",
       "      <td>56.000000</td>\n",
       "    </tr>\n",
       "  </tbody>\n",
       "</table>\n",
       "</div>"
      ],
      "text/plain": [
       "             sem\n",
       "count  25.000000\n",
       "mean   28.840000\n",
       "std    22.970416\n",
       "min     0.000000\n",
       "25%     0.000000\n",
       "50%    40.000000\n",
       "75%    46.000000\n",
       "max    56.000000"
      ]
     },
     "execution_count": 12,
     "metadata": {},
     "output_type": "execute_result"
    }
   ],
   "source": [
    "students.loc[students['task'] == True].loc[:, ['sem']].fillna(0).describe()"
   ]
  }
 ],
 "metadata": {
  "kernelspec": {
   "display_name": "Python 3",
   "language": "python",
   "name": "python3"
  },
  "language_info": {
   "codemirror_mode": {
    "name": "ipython",
    "version": 3
   },
   "file_extension": ".py",
   "mimetype": "text/x-python",
   "name": "python",
   "nbconvert_exporter": "python",
   "pygments_lexer": "ipython3",
   "version": "3.6.0"
  }
 },
 "nbformat": 4,
 "nbformat_minor": 2
}
