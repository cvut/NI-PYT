{
 "cells": [
  {
   "cell_type": "code",
   "execution_count": 1,
   "metadata": {},
   "outputs": [
    {
     "data": {
      "text/html": [
       "<div>\n",
       "<style scoped>\n",
       "    .dataframe tbody tr th:only-of-type {\n",
       "        vertical-align: middle;\n",
       "    }\n",
       "\n",
       "    .dataframe tbody tr th {\n",
       "        vertical-align: top;\n",
       "    }\n",
       "\n",
       "    .dataframe thead th {\n",
       "        text-align: right;\n",
       "    }\n",
       "</style>\n",
       "<table border=\"1\" class=\"dataframe\">\n",
       "  <thead>\n",
       "    <tr style=\"text-align: right;\">\n",
       "      <th></th>\n",
       "      <th>name</th>\n",
       "      <th>t01</th>\n",
       "      <th>t02</th>\n",
       "      <th>t03</th>\n",
       "      <th>t04</th>\n",
       "      <th>t05</th>\n",
       "      <th>t06</th>\n",
       "      <th>t07</th>\n",
       "      <th>t08</th>\n",
       "      <th>t09</th>\n",
       "      <th>...</th>\n",
       "      <th>tasks</th>\n",
       "      <th>sem</th>\n",
       "      <th>extra</th>\n",
       "      <th>tot</th>\n",
       "      <th>mark</th>\n",
       "      <th>var</th>\n",
       "      <th>web</th>\n",
       "      <th>gh</th>\n",
       "      <th>task</th>\n",
       "      <th>group</th>\n",
       "    </tr>\n",
       "  </thead>\n",
       "  <tbody>\n",
       "    <tr>\n",
       "      <th>0</th>\n",
       "      <td>evgrsntb</td>\n",
       "      <td>5.0</td>\n",
       "      <td>5.0</td>\n",
       "      <td>4.0</td>\n",
       "      <td>0.0</td>\n",
       "      <td>3.5</td>\n",
       "      <td>3.0</td>\n",
       "      <td>4.5</td>\n",
       "      <td>0.0</td>\n",
       "      <td>0.0</td>\n",
       "      <td>...</td>\n",
       "      <td>25.0</td>\n",
       "      <td>NaN</td>\n",
       "      <td>NaN</td>\n",
       "      <td>25.0</td>\n",
       "      <td>F</td>\n",
       "      <td>T</td>\n",
       "      <td>True</td>\n",
       "      <td>True</td>\n",
       "      <td>False</td>\n",
       "      <td>102</td>\n",
       "    </tr>\n",
       "    <tr>\n",
       "      <th>1</th>\n",
       "      <td>byhzgxnj</td>\n",
       "      <td>4.0</td>\n",
       "      <td>4.0</td>\n",
       "      <td>4.5</td>\n",
       "      <td>4.0</td>\n",
       "      <td>5.0</td>\n",
       "      <td>4.0</td>\n",
       "      <td>4.5</td>\n",
       "      <td>4.0</td>\n",
       "      <td>0.0</td>\n",
       "      <td>...</td>\n",
       "      <td>34.0</td>\n",
       "      <td>NaN</td>\n",
       "      <td>1.0</td>\n",
       "      <td>35.0</td>\n",
       "      <td>F</td>\n",
       "      <td>T</td>\n",
       "      <td>True</td>\n",
       "      <td>True</td>\n",
       "      <td>True</td>\n",
       "      <td>101</td>\n",
       "    </tr>\n",
       "    <tr>\n",
       "      <th>2</th>\n",
       "      <td>yghatkeb</td>\n",
       "      <td>5.0</td>\n",
       "      <td>5.0</td>\n",
       "      <td>4.5</td>\n",
       "      <td>0.0</td>\n",
       "      <td>0.0</td>\n",
       "      <td>5.0</td>\n",
       "      <td>3.0</td>\n",
       "      <td>1.0</td>\n",
       "      <td>0.0</td>\n",
       "      <td>...</td>\n",
       "      <td>23.5</td>\n",
       "      <td>NaN</td>\n",
       "      <td>NaN</td>\n",
       "      <td>23.5</td>\n",
       "      <td>F</td>\n",
       "      <td>T</td>\n",
       "      <td>True</td>\n",
       "      <td>True</td>\n",
       "      <td>False</td>\n",
       "      <td>101</td>\n",
       "    </tr>\n",
       "    <tr>\n",
       "      <th>3</th>\n",
       "      <td>cknuixjt</td>\n",
       "      <td>5.0</td>\n",
       "      <td>4.0</td>\n",
       "      <td>4.0</td>\n",
       "      <td>3.5</td>\n",
       "      <td>3.0</td>\n",
       "      <td>5.0</td>\n",
       "      <td>4.0</td>\n",
       "      <td>5.0</td>\n",
       "      <td>4.0</td>\n",
       "      <td>...</td>\n",
       "      <td>37.5</td>\n",
       "      <td>39.0</td>\n",
       "      <td>NaN</td>\n",
       "      <td>76.5</td>\n",
       "      <td>C</td>\n",
       "      <td>T</td>\n",
       "      <td>True</td>\n",
       "      <td>True</td>\n",
       "      <td>True</td>\n",
       "      <td>102</td>\n",
       "    </tr>\n",
       "    <tr>\n",
       "      <th>4</th>\n",
       "      <td>gdwtipua</td>\n",
       "      <td>5.0</td>\n",
       "      <td>4.0</td>\n",
       "      <td>5.0</td>\n",
       "      <td>4.0</td>\n",
       "      <td>3.0</td>\n",
       "      <td>4.0</td>\n",
       "      <td>4.5</td>\n",
       "      <td>1.5</td>\n",
       "      <td>4.0</td>\n",
       "      <td>...</td>\n",
       "      <td>35.0</td>\n",
       "      <td>55.0</td>\n",
       "      <td>NaN</td>\n",
       "      <td>90.0</td>\n",
       "      <td>A</td>\n",
       "      <td>T</td>\n",
       "      <td>True</td>\n",
       "      <td>True</td>\n",
       "      <td>True</td>\n",
       "      <td>102</td>\n",
       "    </tr>\n",
       "  </tbody>\n",
       "</table>\n",
       "<p>5 rows × 21 columns</p>\n",
       "</div>"
      ],
      "text/plain": [
       "       name  t01  t02  t03  t04  t05  t06  t07  t08  t09  ...    tasks   sem  \\\n",
       "0  evgrsntb  5.0  5.0  4.0  0.0  3.5  3.0  4.5  0.0  0.0  ...     25.0   NaN   \n",
       "1  byhzgxnj  4.0  4.0  4.5  4.0  5.0  4.0  4.5  4.0  0.0  ...     34.0   NaN   \n",
       "2  yghatkeb  5.0  5.0  4.5  0.0  0.0  5.0  3.0  1.0  0.0  ...     23.5   NaN   \n",
       "3  cknuixjt  5.0  4.0  4.0  3.5  3.0  5.0  4.0  5.0  4.0  ...     37.5  39.0   \n",
       "4  gdwtipua  5.0  4.0  5.0  4.0  3.0  4.0  4.5  1.5  4.0  ...     35.0  55.0   \n",
       "\n",
       "   extra   tot  mark var   web    gh   task  group  \n",
       "0    NaN  25.0     F   T  True  True  False    102  \n",
       "1    1.0  35.0     F   T  True  True   True    101  \n",
       "2    NaN  23.5     F   T  True  True  False    101  \n",
       "3    NaN  76.5     C   T  True  True   True    102  \n",
       "4    NaN  90.0     A   T  True  True   True    102  \n",
       "\n",
       "[5 rows x 21 columns]"
      ]
     },
     "execution_count": 1,
     "metadata": {},
     "output_type": "execute_result"
    }
   ],
   "source": [
    "import numpy as np\n",
    "import pandas as pd\n",
    "import matplotlib\n",
    "import matplotlib.pyplot as plt \n",
    "\n",
    "df = pd.read_csv('anonymous.csv')\n",
    "df_b161 = pd.read_csv('../B161/anonymous.csv')\n",
    "df.head()\n",
    "df_b161.head()"
   ]
  },
  {
   "cell_type": "markdown",
   "metadata": {},
   "source": [
    "# Statistiky jednotlivých úloh a semestrální práce"
   ]
  },
  {
   "cell_type": "code",
   "execution_count": 2,
   "metadata": {},
   "outputs": [
    {
     "data": {
      "text/html": [
       "<div>\n",
       "<style scoped>\n",
       "    .dataframe tbody tr th:only-of-type {\n",
       "        vertical-align: middle;\n",
       "    }\n",
       "\n",
       "    .dataframe tbody tr th {\n",
       "        vertical-align: top;\n",
       "    }\n",
       "\n",
       "    .dataframe thead th {\n",
       "        text-align: right;\n",
       "    }\n",
       "</style>\n",
       "<table border=\"1\" class=\"dataframe\">\n",
       "  <thead>\n",
       "    <tr style=\"text-align: right;\">\n",
       "      <th></th>\n",
       "      <th>count</th>\n",
       "      <th>mean</th>\n",
       "      <th>std</th>\n",
       "      <th>min</th>\n",
       "      <th>25%</th>\n",
       "      <th>50%</th>\n",
       "      <th>75%</th>\n",
       "      <th>max</th>\n",
       "    </tr>\n",
       "  </thead>\n",
       "  <tbody>\n",
       "    <tr>\n",
       "      <th>lab01</th>\n",
       "      <td>32.0</td>\n",
       "      <td>4.437500</td>\n",
       "      <td>1.216486</td>\n",
       "      <td>1.000</td>\n",
       "      <td>5.000</td>\n",
       "      <td>5.0000</td>\n",
       "      <td>5.0</td>\n",
       "      <td>5.0</td>\n",
       "    </tr>\n",
       "    <tr>\n",
       "      <th>lab02</th>\n",
       "      <td>25.0</td>\n",
       "      <td>4.540000</td>\n",
       "      <td>0.762671</td>\n",
       "      <td>3.000</td>\n",
       "      <td>4.000</td>\n",
       "      <td>5.0000</td>\n",
       "      <td>5.0</td>\n",
       "      <td>5.0</td>\n",
       "    </tr>\n",
       "    <tr>\n",
       "      <th>pandas</th>\n",
       "      <td>32.0</td>\n",
       "      <td>4.365625</td>\n",
       "      <td>0.778459</td>\n",
       "      <td>1.875</td>\n",
       "      <td>3.750</td>\n",
       "      <td>4.4875</td>\n",
       "      <td>5.0</td>\n",
       "      <td>5.0</td>\n",
       "    </tr>\n",
       "    <tr>\n",
       "      <th>lab03</th>\n",
       "      <td>33.0</td>\n",
       "      <td>4.578788</td>\n",
       "      <td>0.807294</td>\n",
       "      <td>2.000</td>\n",
       "      <td>4.500</td>\n",
       "      <td>5.0000</td>\n",
       "      <td>5.0</td>\n",
       "      <td>5.0</td>\n",
       "    </tr>\n",
       "    <tr>\n",
       "      <th>wt01</th>\n",
       "      <td>28.0</td>\n",
       "      <td>4.866071</td>\n",
       "      <td>0.350146</td>\n",
       "      <td>3.750</td>\n",
       "      <td>5.000</td>\n",
       "      <td>5.0000</td>\n",
       "      <td>5.0</td>\n",
       "      <td>5.0</td>\n",
       "    </tr>\n",
       "    <tr>\n",
       "      <th>lab04</th>\n",
       "      <td>14.0</td>\n",
       "      <td>4.321429</td>\n",
       "      <td>1.030443</td>\n",
       "      <td>2.000</td>\n",
       "      <td>3.625</td>\n",
       "      <td>5.0000</td>\n",
       "      <td>5.0</td>\n",
       "      <td>5.0</td>\n",
       "    </tr>\n",
       "    <tr>\n",
       "      <th>wt02</th>\n",
       "      <td>19.0</td>\n",
       "      <td>3.868421</td>\n",
       "      <td>1.507777</td>\n",
       "      <td>1.000</td>\n",
       "      <td>2.000</td>\n",
       "      <td>5.0000</td>\n",
       "      <td>5.0</td>\n",
       "      <td>5.0</td>\n",
       "    </tr>\n",
       "    <tr>\n",
       "      <th>lab05</th>\n",
       "      <td>21.0</td>\n",
       "      <td>4.376190</td>\n",
       "      <td>0.702072</td>\n",
       "      <td>2.000</td>\n",
       "      <td>4.000</td>\n",
       "      <td>4.5000</td>\n",
       "      <td>5.0</td>\n",
       "      <td>5.0</td>\n",
       "    </tr>\n",
       "    <tr>\n",
       "      <th>wt3</th>\n",
       "      <td>21.0</td>\n",
       "      <td>4.642857</td>\n",
       "      <td>0.776899</td>\n",
       "      <td>2.500</td>\n",
       "      <td>5.000</td>\n",
       "      <td>5.0000</td>\n",
       "      <td>5.0</td>\n",
       "      <td>5.0</td>\n",
       "    </tr>\n",
       "    <tr>\n",
       "      <th>aio</th>\n",
       "      <td>7.0</td>\n",
       "      <td>3.642857</td>\n",
       "      <td>1.180194</td>\n",
       "      <td>2.000</td>\n",
       "      <td>2.750</td>\n",
       "      <td>4.0000</td>\n",
       "      <td>4.5</td>\n",
       "      <td>5.0</td>\n",
       "    </tr>\n",
       "    <tr>\n",
       "      <th>sem</th>\n",
       "      <td>20.0</td>\n",
       "      <td>43.525000</td>\n",
       "      <td>5.606563</td>\n",
       "      <td>32.000</td>\n",
       "      <td>40.000</td>\n",
       "      <td>44.5000</td>\n",
       "      <td>48.5</td>\n",
       "      <td>50.0</td>\n",
       "    </tr>\n",
       "  </tbody>\n",
       "</table>\n",
       "</div>"
      ],
      "text/plain": [
       "        count       mean       std     min     25%      50%   75%   max\n",
       "lab01    32.0   4.437500  1.216486   1.000   5.000   5.0000   5.0   5.0\n",
       "lab02    25.0   4.540000  0.762671   3.000   4.000   5.0000   5.0   5.0\n",
       "pandas   32.0   4.365625  0.778459   1.875   3.750   4.4875   5.0   5.0\n",
       "lab03    33.0   4.578788  0.807294   2.000   4.500   5.0000   5.0   5.0\n",
       "wt01     28.0   4.866071  0.350146   3.750   5.000   5.0000   5.0   5.0\n",
       "lab04    14.0   4.321429  1.030443   2.000   3.625   5.0000   5.0   5.0\n",
       "wt02     19.0   3.868421  1.507777   1.000   2.000   5.0000   5.0   5.0\n",
       "lab05    21.0   4.376190  0.702072   2.000   4.000   4.5000   5.0   5.0\n",
       "wt3      21.0   4.642857  0.776899   2.500   5.000   5.0000   5.0   5.0\n",
       "aio       7.0   3.642857  1.180194   2.000   2.750   4.0000   4.5   5.0\n",
       "sem      20.0  43.525000  5.606563  32.000  40.000  44.5000  48.5  50.0"
      ]
     },
     "execution_count": 2,
     "metadata": {},
     "output_type": "execute_result"
    }
   ],
   "source": [
    "task_stats = df.describe().iloc[:,list(range(0,10))+[11]].T\n",
    "task_stats"
   ]
  },
  {
   "cell_type": "code",
   "execution_count": 3,
   "metadata": {},
   "outputs": [
    {
     "data": {
      "text/html": [
       "<div>\n",
       "<style scoped>\n",
       "    .dataframe tbody tr th:only-of-type {\n",
       "        vertical-align: middle;\n",
       "    }\n",
       "\n",
       "    .dataframe tbody tr th {\n",
       "        vertical-align: top;\n",
       "    }\n",
       "\n",
       "    .dataframe thead th {\n",
       "        text-align: right;\n",
       "    }\n",
       "</style>\n",
       "<table border=\"1\" class=\"dataframe\">\n",
       "  <thead>\n",
       "    <tr style=\"text-align: right;\">\n",
       "      <th></th>\n",
       "      <th>count</th>\n",
       "      <th>mean</th>\n",
       "      <th>std</th>\n",
       "      <th>min</th>\n",
       "      <th>25%</th>\n",
       "      <th>50%</th>\n",
       "      <th>75%</th>\n",
       "      <th>max</th>\n",
       "    </tr>\n",
       "  </thead>\n",
       "  <tbody>\n",
       "    <tr>\n",
       "      <th>t01</th>\n",
       "      <td>41.0</td>\n",
       "      <td>4.487805</td>\n",
       "      <td>1.137364</td>\n",
       "      <td>0.0</td>\n",
       "      <td>4.000</td>\n",
       "      <td>5.0</td>\n",
       "      <td>5.00</td>\n",
       "      <td>5.0</td>\n",
       "    </tr>\n",
       "    <tr>\n",
       "      <th>t02</th>\n",
       "      <td>40.0</td>\n",
       "      <td>4.400000</td>\n",
       "      <td>1.051251</td>\n",
       "      <td>0.0</td>\n",
       "      <td>4.000</td>\n",
       "      <td>5.0</td>\n",
       "      <td>5.00</td>\n",
       "      <td>5.0</td>\n",
       "    </tr>\n",
       "    <tr>\n",
       "      <th>t03</th>\n",
       "      <td>40.0</td>\n",
       "      <td>4.487500</td>\n",
       "      <td>0.763658</td>\n",
       "      <td>2.0</td>\n",
       "      <td>4.375</td>\n",
       "      <td>5.0</td>\n",
       "      <td>5.00</td>\n",
       "      <td>5.0</td>\n",
       "    </tr>\n",
       "    <tr>\n",
       "      <th>t04</th>\n",
       "      <td>37.0</td>\n",
       "      <td>2.229730</td>\n",
       "      <td>2.066917</td>\n",
       "      <td>0.0</td>\n",
       "      <td>0.000</td>\n",
       "      <td>2.0</td>\n",
       "      <td>4.00</td>\n",
       "      <td>5.0</td>\n",
       "    </tr>\n",
       "    <tr>\n",
       "      <th>t05</th>\n",
       "      <td>37.0</td>\n",
       "      <td>2.918919</td>\n",
       "      <td>1.883826</td>\n",
       "      <td>0.0</td>\n",
       "      <td>1.000</td>\n",
       "      <td>3.5</td>\n",
       "      <td>4.50</td>\n",
       "      <td>5.0</td>\n",
       "    </tr>\n",
       "    <tr>\n",
       "      <th>t06</th>\n",
       "      <td>37.0</td>\n",
       "      <td>4.108108</td>\n",
       "      <td>0.800478</td>\n",
       "      <td>2.0</td>\n",
       "      <td>4.000</td>\n",
       "      <td>4.0</td>\n",
       "      <td>5.00</td>\n",
       "      <td>5.0</td>\n",
       "    </tr>\n",
       "    <tr>\n",
       "      <th>t07</th>\n",
       "      <td>32.0</td>\n",
       "      <td>3.078125</td>\n",
       "      <td>2.012499</td>\n",
       "      <td>0.0</td>\n",
       "      <td>0.000</td>\n",
       "      <td>4.0</td>\n",
       "      <td>4.50</td>\n",
       "      <td>5.0</td>\n",
       "    </tr>\n",
       "    <tr>\n",
       "      <th>t08</th>\n",
       "      <td>33.0</td>\n",
       "      <td>1.469697</td>\n",
       "      <td>2.049921</td>\n",
       "      <td>0.0</td>\n",
       "      <td>0.000</td>\n",
       "      <td>0.0</td>\n",
       "      <td>4.00</td>\n",
       "      <td>5.0</td>\n",
       "    </tr>\n",
       "    <tr>\n",
       "      <th>t09</th>\n",
       "      <td>33.0</td>\n",
       "      <td>2.166667</td>\n",
       "      <td>2.094139</td>\n",
       "      <td>0.0</td>\n",
       "      <td>0.000</td>\n",
       "      <td>3.0</td>\n",
       "      <td>4.00</td>\n",
       "      <td>5.0</td>\n",
       "    </tr>\n",
       "    <tr>\n",
       "      <th>t10</th>\n",
       "      <td>7.0</td>\n",
       "      <td>3.357143</td>\n",
       "      <td>1.841971</td>\n",
       "      <td>0.0</td>\n",
       "      <td>2.500</td>\n",
       "      <td>4.0</td>\n",
       "      <td>4.75</td>\n",
       "      <td>5.0</td>\n",
       "    </tr>\n",
       "    <tr>\n",
       "      <th>sem</th>\n",
       "      <td>16.0</td>\n",
       "      <td>45.062500</td>\n",
       "      <td>8.028854</td>\n",
       "      <td>25.0</td>\n",
       "      <td>40.000</td>\n",
       "      <td>45.5</td>\n",
       "      <td>51.00</td>\n",
       "      <td>56.0</td>\n",
       "    </tr>\n",
       "  </tbody>\n",
       "</table>\n",
       "</div>"
      ],
      "text/plain": [
       "     count       mean       std   min     25%   50%    75%   max\n",
       "t01   41.0   4.487805  1.137364   0.0   4.000   5.0   5.00   5.0\n",
       "t02   40.0   4.400000  1.051251   0.0   4.000   5.0   5.00   5.0\n",
       "t03   40.0   4.487500  0.763658   2.0   4.375   5.0   5.00   5.0\n",
       "t04   37.0   2.229730  2.066917   0.0   0.000   2.0   4.00   5.0\n",
       "t05   37.0   2.918919  1.883826   0.0   1.000   3.5   4.50   5.0\n",
       "t06   37.0   4.108108  0.800478   2.0   4.000   4.0   5.00   5.0\n",
       "t07   32.0   3.078125  2.012499   0.0   0.000   4.0   4.50   5.0\n",
       "t08   33.0   1.469697  2.049921   0.0   0.000   0.0   4.00   5.0\n",
       "t09   33.0   2.166667  2.094139   0.0   0.000   3.0   4.00   5.0\n",
       "t10    7.0   3.357143  1.841971   0.0   2.500   4.0   4.75   5.0\n",
       "sem   16.0  45.062500  8.028854  25.0  40.000  45.5  51.00  56.0"
      ]
     },
     "execution_count": 3,
     "metadata": {},
     "output_type": "execute_result"
    }
   ],
   "source": [
    "task_stats_b161 = df_b161.describe().iloc[:,list(range(0,10))+[11]].T\n",
    "task_stats_b161"
   ]
  },
  {
   "cell_type": "code",
   "execution_count": 4,
   "metadata": {},
   "outputs": [
    {
     "name": "stderr",
     "output_type": "stream",
     "text": [
      "C:\\Users\\avalenta\\Programs\\Python37\\lib\\site-packages\\ipykernel_launcher.py:6: SettingWithCopyWarning: \n",
      "A value is trying to be set on a copy of a slice from a DataFrame.\n",
      "Try using .loc[row_indexer,col_indexer] = value instead\n",
      "\n",
      "See the caveats in the documentation: http://pandas.pydata.org/pandas-docs/stable/indexing.html#indexing-view-versus-copy\n",
      "  \n"
     ]
    },
    {
     "data": {
      "text/html": [
       "<div>\n",
       "<style scoped>\n",
       "    .dataframe tbody tr th:only-of-type {\n",
       "        vertical-align: middle;\n",
       "    }\n",
       "\n",
       "    .dataframe tbody tr th {\n",
       "        vertical-align: top;\n",
       "    }\n",
       "\n",
       "    .dataframe thead th {\n",
       "        text-align: right;\n",
       "    }\n",
       "</style>\n",
       "<table border=\"1\" class=\"dataframe\">\n",
       "  <thead>\n",
       "    <tr style=\"text-align: right;\">\n",
       "      <th></th>\n",
       "      <th>Počet B171</th>\n",
       "      <th>Počet B161</th>\n",
       "    </tr>\n",
       "    <tr>\n",
       "      <th>task_name</th>\n",
       "      <th></th>\n",
       "      <th></th>\n",
       "    </tr>\n",
       "  </thead>\n",
       "  <tbody>\n",
       "    <tr>\n",
       "      <th>Requests a click</th>\n",
       "      <td>32.0</td>\n",
       "      <td>41.0</td>\n",
       "    </tr>\n",
       "    <tr>\n",
       "      <th>Flask</th>\n",
       "      <td>25.0</td>\n",
       "      <td>40.0</td>\n",
       "    </tr>\n",
       "    <tr>\n",
       "      <th>Pandas</th>\n",
       "      <td>32.0</td>\n",
       "      <td>40.0</td>\n",
       "    </tr>\n",
       "    <tr>\n",
       "      <th>Moduly</th>\n",
       "      <td>33.0</td>\n",
       "      <td>37.0</td>\n",
       "    </tr>\n",
       "    <tr>\n",
       "      <th>NumPy</th>\n",
       "      <td>28.0</td>\n",
       "      <td>37.0</td>\n",
       "    </tr>\n",
       "    <tr>\n",
       "      <th>Testování</th>\n",
       "      <td>14.0</td>\n",
       "      <td>37.0</td>\n",
       "    </tr>\n",
       "    <tr>\n",
       "      <th>C API a Cython</th>\n",
       "      <td>19.0</td>\n",
       "      <td>32.0</td>\n",
       "    </tr>\n",
       "    <tr>\n",
       "      <th>Dokumentace</th>\n",
       "      <td>21.0</td>\n",
       "      <td>33.0</td>\n",
       "    </tr>\n",
       "    <tr>\n",
       "      <th>GUI v Pythonu: PyQt5</th>\n",
       "      <td>21.0</td>\n",
       "      <td>33.0</td>\n",
       "    </tr>\n",
       "    <tr>\n",
       "      <th>Generátory a AsyncIO</th>\n",
       "      <td>7.0</td>\n",
       "      <td>7.0</td>\n",
       "    </tr>\n",
       "    <tr>\n",
       "      <th>Semestrální práce</th>\n",
       "      <td>20.0</td>\n",
       "      <td>16.0</td>\n",
       "    </tr>\n",
       "  </tbody>\n",
       "</table>\n",
       "</div>"
      ],
      "text/plain": [
       "                      Počet B171  Počet B161\n",
       "task_name                                   \n",
       "Requests a click            32.0        41.0\n",
       "Flask                       25.0        40.0\n",
       "Pandas                      32.0        40.0\n",
       "Moduly                      33.0        37.0\n",
       "NumPy                       28.0        37.0\n",
       "Testování                   14.0        37.0\n",
       "C API a Cython              19.0        32.0\n",
       "Dokumentace                 21.0        33.0\n",
       "GUI v Pythonu: PyQt5        21.0        33.0\n",
       "Generátory a AsyncIO         7.0         7.0\n",
       "Semestrální práce           20.0        16.0"
      ]
     },
     "execution_count": 4,
     "metadata": {},
     "output_type": "execute_result"
    }
   ],
   "source": [
    "task_stats['task_name'] = ['Requests a click', 'Flask', 'Pandas', 'Moduly', 'NumPy', 'Testování', 'C API a Cython', 'Dokumentace', 'GUI v Pythonu: PyQt5', 'Generátory a AsyncIO', 'Semestrální práce']\n",
    "task_stats.index = task_stats['task_name']\n",
    "task_stats_b161.index = task_stats['task_name']\n",
    "task_stats_c = task_stats[['count']]\n",
    "task_stats_c.columns = ['Počet B171']\n",
    "task_stats_c['Počet B161'] = task_stats_b161['count']\n",
    "task_stats_c"
   ]
  },
  {
   "cell_type": "code",
   "execution_count": 5,
   "metadata": {},
   "outputs": [
    {
     "data": {
      "text/plain": [
       "<matplotlib.axes._subplots.AxesSubplot at 0x21a3db39c50>"
      ]
     },
     "execution_count": 5,
     "metadata": {},
     "output_type": "execute_result"
    },
    {
     "data": {
      "image/png": "[encoded data removed]",
      "text/plain": [
       "<Figure size 432x288 with 1 Axes>"
      ]
     },
     "metadata": {
      "needs_background": "light"
     },
     "output_type": "display_data"
    }
   ],
   "source": [
    "plot = task_stats_c['Počet B171'].plot(kind='bar')\n",
    "plot.set_title(\"Počty odevzdaných úloh B171\")\n",
    "plot.set_ylabel(\"Počet odevzdaných úloh\")\n",
    "plot.set_xlabel(\"Název úlohy\")\n",
    "plot"
   ]
  },
  {
   "cell_type": "code",
   "execution_count": 6,
   "metadata": {},
   "outputs": [
    {
     "data": {
      "text/plain": [
       "<matplotlib.axes._subplots.AxesSubplot at 0x21a3fc23780>"
      ]
     },
     "execution_count": 6,
     "metadata": {},
     "output_type": "execute_result"
    },
    {
     "data": {
      "image/png": "[encoded data removed]",
      "text/plain": [
       "<Figure size 432x288 with 1 Axes>"
      ]
     },
     "metadata": {
      "needs_background": "light"
     },
     "output_type": "display_data"
    }
   ],
   "source": [
    "plot = task_stats_c['Počet B161'].plot(kind='bar')\n",
    "plot.set_title(\"Počty odevzdaných úloh B161\")\n",
    "plot.set_ylabel(\"Počet odevzdaných úloh\")\n",
    "plot.set_xlabel(\"Název úlohy\")\n",
    "plot"
   ]
  },
  {
   "cell_type": "code",
   "execution_count": 7,
   "metadata": {},
   "outputs": [
    {
     "data": {
      "text/plain": [
       "<matplotlib.axes._subplots.AxesSubplot at 0x21a3fc94940>"
      ]
     },
     "execution_count": 7,
     "metadata": {},
     "output_type": "execute_result"
    },
    {
     "data": {
      "image/png": "[encoded data removed]",
      "text/plain": [
       "<Figure size 432x288 with 1 Axes>"
      ]
     },
     "metadata": {
      "needs_background": "light"
     },
     "output_type": "display_data"
    }
   ],
   "source": [
    "plot = task_stats_c.plot(kind='bar')\n",
    "plot.set_title(\"Počty odevzdaných úloh v B171 a v B161\")\n",
    "plot.set_ylabel(\"Počet odevzdaných úloh\")\n",
    "plot.set_xlabel(\"Název úlohy\")\n",
    "plot"
   ]
  },
  {
   "cell_type": "code",
   "execution_count": 8,
   "metadata": {},
   "outputs": [
    {
     "name": "stdout",
     "output_type": "stream",
     "text": [
      "Celkem opraveno v B171: 252.0 úloh\n"
     ]
    }
   ],
   "source": [
    "print(f'Celkem opraveno v B171: {task_stats[\"count\"].sum()} úloh')"
   ]
  },
  {
   "cell_type": "markdown",
   "metadata": {},
   "source": [
    "# Statistiky studentů"
   ]
  },
  {
   "cell_type": "code",
   "execution_count": 9,
   "metadata": {},
   "outputs": [
    {
     "name": "stdout",
     "output_type": "stream",
     "text": [
      "Semestr B171\n",
      "Zapsáno studentů: 44\n",
      "Počet studentů, kteří se vzdali (v semestru 0 bodů): 9\n",
      "Počet studentů se zápočtem: 28\n",
      "Počet studentů se zápočtem a schválenou semestrálkou: 27\n",
      "Počet studentů s dokončenou semestrálkou: 20\n",
      "Počet studentů s pozdě odevzdanou semestrálkou: 7\n",
      "Počet studentů, kteří dokončili předmět: 20\n",
      "Průměrná známka: 3.022727272727273\n",
      "Průměrná známka bez studentů, kteří se vzdali: 2.7714285714285714\n"
     ]
    }
   ],
   "source": [
    "conv_dict={'A':1.,'B':1.5,'C':2.,'D':2.5, 'E':3., 'F':4, '?': np.nan}\n",
    "df['mark_num'] = df.mark.apply(conv_dict.get)\n",
    "\n",
    "print('Semestr B171')\n",
    "print(f'Zapsáno studentů: {df.index.shape[0]}')\n",
    "print(f'Počet studentů, kteří se vzdali (v semestru 0 bodů): {df[df[\"tasks\"] == 0].tasks.count()}')\n",
    "print(f'Počet studentů se zápočtem: {df[df[\"tasks\"] >= 25].tasks.count()}')\n",
    "print(f'Počet studentů se zápočtem a schválenou semestrálkou: {df[(df[\"tasks\"] >= 25) & (df[\"sem_approved\"] == True)].mark.count()}')\n",
    "print(f'Počet studentů s dokončenou semestrálkou: {df[(df[\"sem\"] >= 25)].mark.count()}')\n",
    "print(f'Počet studentů s pozdě odevzdanou semestrálkou: {df[(df[\"sem_late\"] < 0)].mark.count()}')\n",
    "print(f'Počet studentů, kteří dokončili předmět: {df[df[\"mark_num\"] < 4].mark.count()}')\n",
    "print(f'Průměrná známka: {df.mark_num.mean()}')\n",
    "print(f'Průměrná známka bez studentů, kteří se vzdali: {df[df[\"tasks\"] > 0].mark_num.mean()}')"
   ]
  },
  {
   "cell_type": "code",
   "execution_count": 10,
   "metadata": {},
   "outputs": [
    {
     "data": {
      "text/html": [
       "<div>\n",
       "<style scoped>\n",
       "    .dataframe tbody tr th:only-of-type {\n",
       "        vertical-align: middle;\n",
       "    }\n",
       "\n",
       "    .dataframe tbody tr th {\n",
       "        vertical-align: top;\n",
       "    }\n",
       "\n",
       "    .dataframe thead th {\n",
       "        text-align: right;\n",
       "    }\n",
       "</style>\n",
       "<table border=\"1\" class=\"dataframe\">\n",
       "  <thead>\n",
       "    <tr style=\"text-align: right;\">\n",
       "      <th></th>\n",
       "      <th>Počet studentů B171</th>\n",
       "    </tr>\n",
       "    <tr>\n",
       "      <th>mark</th>\n",
       "      <th></th>\n",
       "    </tr>\n",
       "  </thead>\n",
       "  <tbody>\n",
       "    <tr>\n",
       "      <th>A</th>\n",
       "      <td>6</td>\n",
       "    </tr>\n",
       "    <tr>\n",
       "      <th>B</th>\n",
       "      <td>2</td>\n",
       "    </tr>\n",
       "    <tr>\n",
       "      <th>C</th>\n",
       "      <td>6</td>\n",
       "    </tr>\n",
       "    <tr>\n",
       "      <th>D</th>\n",
       "      <td>4</td>\n",
       "    </tr>\n",
       "    <tr>\n",
       "      <th>E</th>\n",
       "      <td>2</td>\n",
       "    </tr>\n",
       "    <tr>\n",
       "      <th>F</th>\n",
       "      <td>24</td>\n",
       "    </tr>\n",
       "  </tbody>\n",
       "</table>\n",
       "</div>"
      ],
      "text/plain": [
       "      Počet studentů B171\n",
       "mark                     \n",
       "A                       6\n",
       "B                       2\n",
       "C                       6\n",
       "D                       4\n",
       "E                       2\n",
       "F                      24"
      ]
     },
     "execution_count": 10,
     "metadata": {},
     "output_type": "execute_result"
    }
   ],
   "source": [
    "mark_counts = df.groupby(df.mark).mark.count()\n",
    "mark_counts_data = pd.DataFrame(mark_counts)\n",
    "mark_counts_data.columns = ['Počet studentů B171']\n",
    "mark_counts_data"
   ]
  },
  {
   "cell_type": "code",
   "execution_count": 11,
   "metadata": {},
   "outputs": [
    {
     "data": {
      "text/html": [
       "<div>\n",
       "<style scoped>\n",
       "    .dataframe tbody tr th:only-of-type {\n",
       "        vertical-align: middle;\n",
       "    }\n",
       "\n",
       "    .dataframe tbody tr th {\n",
       "        vertical-align: top;\n",
       "    }\n",
       "\n",
       "    .dataframe thead th {\n",
       "        text-align: right;\n",
       "    }\n",
       "</style>\n",
       "<table border=\"1\" class=\"dataframe\">\n",
       "  <thead>\n",
       "    <tr style=\"text-align: right;\">\n",
       "      <th></th>\n",
       "      <th>Počet studentů B161</th>\n",
       "    </tr>\n",
       "    <tr>\n",
       "      <th>mark</th>\n",
       "      <th></th>\n",
       "    </tr>\n",
       "  </thead>\n",
       "  <tbody>\n",
       "    <tr>\n",
       "      <th>A</th>\n",
       "      <td>5</td>\n",
       "    </tr>\n",
       "    <tr>\n",
       "      <th>B</th>\n",
       "      <td>4</td>\n",
       "    </tr>\n",
       "    <tr>\n",
       "      <th>C</th>\n",
       "      <td>3</td>\n",
       "    </tr>\n",
       "    <tr>\n",
       "      <th>D</th>\n",
       "      <td>4</td>\n",
       "    </tr>\n",
       "    <tr>\n",
       "      <th>F</th>\n",
       "      <td>30</td>\n",
       "    </tr>\n",
       "    <tr>\n",
       "      <th>E</th>\n",
       "      <td>0</td>\n",
       "    </tr>\n",
       "  </tbody>\n",
       "</table>\n",
       "</div>"
      ],
      "text/plain": [
       "      Počet studentů B161\n",
       "mark                     \n",
       "A                       5\n",
       "B                       4\n",
       "C                       3\n",
       "D                       4\n",
       "F                      30\n",
       "E                       0"
      ]
     },
     "execution_count": 11,
     "metadata": {},
     "output_type": "execute_result"
    }
   ],
   "source": [
    "mark_counts_b161 = df_b161.groupby(df_b161.mark).mark.count()\n",
    "mark_counts_data_b161 = pd.DataFrame(mark_counts_b161)\n",
    "mark_counts_data_b161.columns = ['Počet studentů B161']\n",
    "mark_counts_data_b161.loc['E'] = 0\n",
    "mark_counts_data_b161"
   ]
  },
  {
   "cell_type": "code",
   "execution_count": 12,
   "metadata": {},
   "outputs": [
    {
     "data": {
      "text/plain": [
       "<matplotlib.axes._subplots.AxesSubplot at 0x21a3fd7c7f0>"
      ]
     },
     "execution_count": 12,
     "metadata": {},
     "output_type": "execute_result"
    },
    {
     "data": {
      "image/png": "[encoded data removed]",
      "text/plain": [
       "<Figure size 720x432 with 1 Axes>"
      ]
     },
     "metadata": {},
     "output_type": "display_data"
    }
   ],
   "source": [
    "plot = mark_counts.plot(kind='pie', figsize=(10,6), autopct='%1.0f%%')\n",
    "plot.set_ylabel(\"Známka\")\n",
    "plot.set_title(\"Úspěšnost předmětu B171\")\n",
    "plot"
   ]
  },
  {
   "cell_type": "code",
   "execution_count": 13,
   "metadata": {},
   "outputs": [
    {
     "data": {
      "text/plain": [
       "<matplotlib.axes._subplots.AxesSubplot at 0x21a3fdd17b8>"
      ]
     },
     "execution_count": 13,
     "metadata": {},
     "output_type": "execute_result"
    },
    {
     "data": {
      "image/png": "[encoded data removed]",
      "text/plain": [
       "<Figure size 720x432 with 1 Axes>"
      ]
     },
     "metadata": {},
     "output_type": "display_data"
    }
   ],
   "source": [
    "plot = mark_counts_b161.plot(kind='pie', figsize=(10,6), autopct='%1.0f%%')\n",
    "plot.set_ylabel(\"Známka\")\n",
    "plot.set_title(\"Úspěšnost předmětu B161\")\n",
    "plot"
   ]
  },
  {
   "cell_type": "code",
   "execution_count": 14,
   "metadata": {},
   "outputs": [
    {
     "data": {
      "image/png": "[encoded data removed]",
      "text/plain": [
       "<Figure size 432x288 with 2 Axes>"
      ]
     },
     "metadata": {},
     "output_type": "display_data"
    }
   ],
   "source": [
    "labels = mark_counts.index\n",
    "\n",
    "fig = plt.figure()\n",
    "\n",
    "ax1 = fig.add_axes([0, 0, .5, .5], aspect=1)\n",
    "ax1.pie(mark_counts, labels=labels, radius = 2, autopct='%1.f%%')\n",
    "ax2 = fig.add_axes([0.7, .0, .5, .5], aspect=1)\n",
    "ax2.pie(mark_counts_b161, labels=mark_counts_b161.index, radius = 2, autopct='%1.f%%')\n",
    "fig.suptitle('                  Úspěšnost předmětu B171                   Úspěšnost předmětu B161', fontsize=16)\n",
    "plt.show()"
   ]
  },
  {
   "cell_type": "markdown",
   "metadata": {},
   "source": [
    "# Celkové počty bodů všech studentů"
   ]
  },
  {
   "cell_type": "code",
   "execution_count": 15,
   "metadata": {},
   "outputs": [
    {
     "data": {
      "text/plain": [
       "Text(0, 0.5, 'Celkový počet bodů')"
      ]
     },
     "execution_count": 15,
     "metadata": {},
     "output_type": "execute_result"
    },
    {
     "data": {
      "image/png": "[encoded data removed]",
      "text/plain": [
       "<Figure size 1152x288 with 1 Axes>"
      ]
     },
     "metadata": {
      "needs_background": "light"
     },
     "output_type": "display_data"
    }
   ],
   "source": [
    "colors = {'A': 'g', 'B': 'y', 'C': 'c', 'D': 'm', 'E': 'k', 'F': 'r'}\n",
    "total_points_mark = df.loc[:, ['total', 'mark']].fillna(0).sort_values(by='total')\n",
    "total_points_mark['student'] = total_points_mark.index\n",
    "total_points_mark['student'] = 'Student ' + total_points_mark['student'].astype(str)\n",
    "total_points_mark.index = total_points_mark['student']\n",
    "\n",
    "total_points_mark['Limit'] = 50\n",
    "ax = total_points_mark[['student', 'Limit']].plot(\n",
    "    x='student', linestyle='-', marker=None)\n",
    "\n",
    "plot = total_points_mark['total'].plot(kind='bar', yticks=range(0,101,25), color=[colors[i] for i in total_points_mark['mark']], figsize=(16,4), ax=ax)\n",
    "plot.set_title('Celkové počty bodů všech studentů')\n",
    "plot.set_xlabel('')\n",
    "plot.set_ylabel('Celkový počet bodů')"
   ]
  },
  {
   "cell_type": "code",
   "execution_count": null,
   "metadata": {},
   "outputs": [],
   "source": []
  }
 ],
 "metadata": {
  "kernelspec": {
   "display_name": "Python 3",
   "language": "python",
   "name": "python3"
  },
  "language_info": {
   "codemirror_mode": {
    "name": "ipython",
    "version": 3
   },
   "file_extension": ".py",
   "mimetype": "text/x-python",
   "name": "python",
   "nbconvert_exporter": "python",
   "pygments_lexer": "ipython3",
   "version": "3.7.1"
  }
 },
 "nbformat": 4,
 "nbformat_minor": 2
}
